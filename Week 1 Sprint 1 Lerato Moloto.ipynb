{
 "cells": [
  {
   "cell_type": "code",
   "execution_count": 45,
   "metadata": {},
   "outputs": [
    {
     "name": "stdout",
     "output_type": "stream",
     "text": [
      "[['id_products', 'Chips', 'Juice', 'Chocolates', 'Sweets', 'Fruit', 'Veggies'], [1, 'Simba', 'Sir', 'Cadbury', 'Mister', 'Pear', 'Spinach'], [2, 'Lays', 'Ceres', 'Flake', 'Amajoya', 'Apple', 'Cabbage'], [3, 'Doritos', 'Fruitree', 'Kitkat', 'Rascals', 'Orange', 'Brussel sprouts'], [4, 'Niknaks', 'Lemon juice', 'Nosh', 'Mentos', 'Banana', 'potato'], [5, 'Flings', 'Sistema', 'Ferrero Rocher', 'Maynards', 'Peach', 'butternut'], [6, 'Fritos', 'Rhodes', 'Lindt', 'Fruitella', 'Apricot', 'Broolli'], [7, 'Staffords', 'Safair Prune', 'Ghirardelli', 'Skittles', 'Plum', 'Green Pepper'], [8, 'Cheasnak', 'Cappy', 'Hersheys', 'Smarties', 'Strawberry', 'Marrows'], [9, 'Nik Naks', 'Tropika', 'Toblerone', 'Galaxy', 'Blueberry', 'Thai Chillies'], [10, 'Pringles', 'Infacare Clear', 'Cadbury', 'Cadbury Buttons', 'Passion fruit', 'Galic'], [11, 'Popchips', 'Appletiser', 'Guylian', 'Magic Stars', 'Watermelon', 'Onions'], [12, 'Ruffles', 'Capri-sun', ',Patchi', 'M&M', 'Mangoes', 'Mushrooms'], [13, 'Terra', 'Liqui-fruit', 'Tex', 'Mistrels', 'Kiwifruit', 'Carrots'], [14, 'Sunchips', 'Del Monte', 'Godiva', 'Fruit Pastilles', 'Raspberries', 'Celery fingers'], [15, 'Tostitos', 'Frooti', 'Milka', 'Revels', 'Guava', 'Brinjals'], ['Total chips = 45', 'Total Juice =38', 'Total Chocolates = 30', 'Total Sweets = 50', 'Total Fruits = 48', 'Total Veggies= 55']]\n"
     ]
    }
   ],
   "source": [
    "import csv\n",
    "import numpy as np\n",
    "import pandas as pd\n",
    "\n",
    "data =[['id_products','Chips','Juice', 'Chocolates', 'Sweets','Fruit','Veggies'],\n",
    "       [1,'Simba','Sir','Cadbury','Mister','Pear','Spinach'],\n",
    "       [2,'Lays','Ceres','Flake','Amajoya','Apple','Cabbage'],\n",
    "       [3,'Doritos', 'Fruitree','Kitkat','Rascals','Orange','Brussel sprouts'],\n",
    "       [4,'Niknaks','Lemon juice','Nosh','Mentos','Banana','potato'],\n",
    "       [5,'Flings','Sistema','Ferrero Rocher','Maynards','Peach','butternut'],\n",
    "       [6,'Fritos','Rhodes','Lindt','Fruitella','Apricot','Broolli'],\n",
    "       [7,'Staffords','Safair Prune','Ghirardelli','Skittles','Plum','Green Pepper'],\n",
    "       [8,'Cheasnak','Cappy','Hersheys','Smarties','Strawberry','Marrows'],\n",
    "       [9,'Nik Naks','Tropika','Toblerone','Galaxy','Blueberry', 'Thai Chillies'],\n",
    "       [10,'Pringles','Infacare Clear','Cadbury','Cadbury Buttons','Passion fruit','Galic'],\n",
    "       [11,'Popchips','Appletiser','Guylian','Magic Stars','Watermelon','Onions'],\n",
    "       [12,'Ruffles','Capri-sun',',Patchi','M&M','Mangoes','Mushrooms'],\n",
    "       [13,'Terra','Liqui-fruit','Tex','Mistrels','Kiwifruit','Carrots'],\n",
    "       [14,'Sunchips','Del Monte','Godiva','Fruit Pastilles','Raspberries','Celery fingers'],\n",
    "       [15,'Tostitos','Frooti','Milka','Revels','Guava','Brinjals'],\n",
    "       ['Total chips = 45','Total Juice =38', 'Total Chocolates = 30', 'Total Sweets = 50', 'Total Fruits = 48', 'Total Veggies= 55'\n",
    "]]\n",
    "      \n",
    "\n",
    "myfile = open('D:\\CapaCiti\\lira.csv', 'w', newline = '')\n",
    "with myfile:\n",
    "    writer = csv.writer(myfile)\n",
    "    writer.writerows(data)\n",
    "print(data)\n"
   ]
  },
  {
   "cell_type": "code",
   "execution_count": null,
   "metadata": {},
   "outputs": [],
   "source": []
  }
 ],
 "metadata": {
  "kernelspec": {
   "display_name": "Python 3",
   "language": "python",
   "name": "python3"
  },
  "language_info": {
   "codemirror_mode": {
    "name": "ipython",
    "version": 3
   },
   "file_extension": ".py",
   "mimetype": "text/x-python",
   "name": "python",
   "nbconvert_exporter": "python",
   "pygments_lexer": "ipython3",
   "version": "3.7.4"
  }
 },
 "nbformat": 4,
 "nbformat_minor": 2
}
